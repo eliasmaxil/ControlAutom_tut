{
 "cells": [
  {
   "cell_type": "markdown",
   "metadata": {},
   "source": [
    "# SGD\n",
    "\n",
    "https://apmonitor.com/pds/index.php/Main/StochasticGradientDescent\n",
    "\n",
    "https://towardsdatascience.com/implementing-sgd-from-scratch-d425db18a72c"
   ]
  },
  {
   "cell_type": "markdown",
   "metadata": {},
   "source": [
    "## Simple example of a gradient descent\n",
    "\n",
    "The function to be minimized. Parametros a encontrar: $p_1, p_2, p_3$\n",
    "\n",
    "$$ f(x) = (p_{1}-4)^2 + (p_{2}-5)^2 + (p_{3}-6)^2 $$\n",
    "\n",
    "El gradiente de la funcion (la derivada)\n",
    "\n",
    "$$ f'(x) = 2(p_1-4) + 2(p_1-5) + 2(p_3-6) $$"
   ]
  },
  {
   "cell_type": "code",
   "execution_count": 2,
   "metadata": {},
   "outputs": [
    {
     "name": "stdout",
     "output_type": "stream",
     "text": [
      "[3.9999999949510996, 4.999999994951097, 5.999999994951097]\n"
     ]
    }
   ],
   "source": [
    "# Simple example of SGD\n",
    "\n",
    "# initialize parameters\n",
    "p = [1, 2, 3]\n",
    "\n",
    "# define the function to be minimized\n",
    "def my_func(p):\n",
    "    \"\"\" La loss function \"\"\"\n",
    "    return (p[0]-4)**2 + (p[1]-5)**2 + (p[2]-6)**2\n",
    "\n",
    "# define the gradient of the function\n",
    "def grad(p):\n",
    "    \"\"\" Gradientes de la loss function \"\"\"\n",
    "    return [2*(p[0]-4), 2*(p[1]-5), 2*(p[2]-6)]\n",
    "\n",
    "# set the learning rate\n",
    "lr = 0.01\n",
    "\n",
    "# perform gradient descent for a number of iterations\n",
    "for i in range(1000):\n",
    "    # calculate the gradient\n",
    "    g = grad(p)\n",
    "\n",
    "    # update the parameters\n",
    "    p[0] = p[0] - lr * g[0]\n",
    "    p[1] = p[1] - lr * g[1]\n",
    "    p[2] = p[2] - lr * g[2]\n",
    "\n",
    "# print the final parameters\n",
    "print(p)"
   ]
  }
 ],
 "metadata": {
  "kernelspec": {
   "display_name": "dycon",
   "language": "python",
   "name": "python3"
  },
  "language_info": {
   "codemirror_mode": {
    "name": "ipython",
    "version": 3
   },
   "file_extension": ".py",
   "mimetype": "text/x-python",
   "name": "python",
   "nbconvert_exporter": "python",
   "pygments_lexer": "ipython3",
   "version": "3.12.5"
  }
 },
 "nbformat": 4,
 "nbformat_minor": 2
}
