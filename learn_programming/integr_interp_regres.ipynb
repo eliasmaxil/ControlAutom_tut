{
 "cells": [
  {
   "cell_type": "markdown",
   "metadata": {},
   "source": [
    "# Integrals, interpolation, regression\n",
    "\n",
    "https://www.youtube.com/watch?v=4grhQ5Y_MWo\n",
    "\n",
    "Integration in Python\n",
    "\n",
    "$ \\int_{0}^{2} (3x^2 + 1)  dx$. La solucion seria $10$"
   ]
  },
  {
   "cell_type": "markdown",
   "metadata": {},
   "source": [
    "## Integration Analytical\n",
    "\n",
    "Se necesita `sympy` "
   ]
  },
  {
   "cell_type": "markdown",
   "metadata": {},
   "source": [
    "## Integration Numerical"
   ]
  },
  {
   "cell_type": "code",
   "execution_count": 1,
   "metadata": {},
   "outputs": [],
   "source": [
    "from scipy.integrate import quad"
   ]
  },
  {
   "cell_type": "code",
   "execution_count": 2,
   "metadata": {},
   "outputs": [
    {
     "name": "stdout",
     "output_type": "stream",
     "text": [
      "f(x)= 28.0 cuando x = 3\n",
      "Numerical integration: 10.000 | Error: 1.11e-13\n"
     ]
    }
   ],
   "source": [
    "def f(x):\n",
    "    \"\"\" Returns the value of the function at a given x point \"\"\"\n",
    "    return 3.0 * x**2 + 1\n",
    "\n",
    "x=3\n",
    "print(f\"f(x)= {f(x)} cuando x = {3}\")\n",
    "\n",
    "i = quad(f, 0, 2)\n",
    "print(f\"Numerical integration: {i[0]:.3f} | Error: {i[1]:.3g}\")\n"
   ]
  },
  {
   "cell_type": "markdown",
   "metadata": {},
   "source": [
    "## Linear Regression"
   ]
  },
  {
   "cell_type": "code",
   "execution_count": 3,
   "metadata": {},
   "outputs": [
    {
     "name": "stdout",
     "output_type": "stream",
     "text": [
      "[0 1 2 3 4 5]\n",
      "[ 0.   0.8  0.9  0.1 -0.8 -1. ]\n",
      "[-0.30285714  0.75714286]\n",
      "[np.float64(-0.3028571428571429), np.float64(0.7571428571428572), np.float64(-0.7195748873002584), np.float64(0.10693129655435198), np.float64(0.14613384974336482)]\n"
     ]
    }
   ],
   "source": [
    "import numpy as np\n",
    "x = np.array([0,1,2,3,4,5])\n",
    "y = np.array([0,0.8,0.9,0.1,-0.8,-1])\n",
    "print(x)\n",
    "print(y)\n",
    "\n",
    "# Modelos de polynomial regression 1ro, 2do, y 3er grado.\n",
    "p1 = np.polyfit(x,y,1)\n",
    "p2 = np.polyfit(x,y,2)\n",
    "p3 = np.polyfit(x,y,3)\n",
    "# Least squares polynomial fit.\n",
    "print(p1)\n",
    "\n",
    "# Con scipy\n",
    "from scipy.stats import linregress\n",
    "# Calculate a linear least-squares regression for \n",
    "# two sets of measurements.\n",
    "model = linregress(x,y)\n",
    "print(list(model))"
   ]
  },
  {
   "cell_type": "markdown",
   "metadata": {},
   "source": [
    "## Non-linear regression\n",
    "\n",
    "Funcion:\n",
    "$$ y = a + \\frac{b}{x} + c \\ln(x) $$\n",
    "\n",
    "Objective function:\n",
    "$$ \\Sigma_{i=1}^{n} (\\frac{y_p - y_m}{y_m})^2$$"
   ]
  },
  {
   "cell_type": "code",
   "execution_count": 4,
   "metadata": {},
   "outputs": [
    {
     "name": "stdout",
     "output_type": "stream",
     "text": [
      "Initial SSE Objective: 20.0\n",
      "Final SSE Objective: 0.0003651726174522593\n",
      "Solution\n",
      "a = 0.5514581077186436\n",
      "b = 1.9269703429736875\n",
      "c = 1.499428856802254\n"
     ]
    },
    {
     "data": {
      "image/png": "[encoded data removed]",
      "text/plain": [
       "<Figure size 640x480 with 1 Axes>"
      ]
     },
     "metadata": {},
     "output_type": "display_data"
    }
   ],
   "source": [
    "import numpy as np\n",
    "from scipy.optimize import minimize\n",
    "\n",
    "# load data\n",
    "xm = np.array([18.3447,79.86538,85.09788,10.5211,44.4556, \\\n",
    "               69.567,8.960,86.197,66.857,16.875, \\\n",
    "               52.2697,93.917,24.35,5.118,25.126, \\\n",
    "               34.037,61.4445,42.704,39.531,29.988])\n",
    "\n",
    "ym = np.array([5.072,7.1588,7.263,4.255,6.282, \\\n",
    "               6.9118,4.044,7.2595,6.898,4.8744, \\\n",
    "               6.5179,7.3434,5.4316,3.38,5.464, \\\n",
    "               5.90,6.80,6.193,6.070,5.737])\n",
    "\n",
    "# calculate y\n",
    "def calc_y(x):\n",
    "    a,b,c = x\n",
    "    y = a + b/xm + c*np.log(xm)\n",
    "    return y\n",
    "\n",
    "# define objective\n",
    "def objective(x):\n",
    "    \"\"\" Sum of normalized squares \"\"\"\n",
    "    return np.sum(((calc_y(x)-ym)/ym)**2)\n",
    "\n",
    "# initial guesses\n",
    "x0 = np.zeros(3)\n",
    "\n",
    "# show initial objective\n",
    "print('Initial SSE Objective: ' + str(objective(x0)))\n",
    "\n",
    "# optimize\n",
    "# bounds on variables\n",
    "bnds100 = (-100.0, 100.0)\n",
    "no_bnds = (-1.0e10, 1.0e10)\n",
    "bnds = (no_bnds, no_bnds, bnds100)\n",
    "solution = minimize(objective,x0,method='SLSQP',bounds=bnds)\n",
    "x = solution.x\n",
    "y = calc_y(x)\n",
    "\n",
    "# show final objective\n",
    "print('Final SSE Objective: ' + str(objective(x)))\n",
    "\n",
    "# print solution\n",
    "print('Solution')\n",
    "print('a = ' + str(x[0]))\n",
    "print('b = ' + str(x[1]))\n",
    "print('c = ' + str(x[2]))\n",
    "\n",
    "# plot solution\n",
    "import matplotlib.pyplot as plt\n",
    "plt.figure(1)\n",
    "plt.plot(xm,ym,'ro')\n",
    "plt.plot(xm,y,'bx');\n",
    "plt.xlabel('x')\n",
    "plt.ylabel('y')\n",
    "plt.legend(['Measured','Predicted'],loc='best')\n",
    "plt.show()"
   ]
  }
 ],
 "metadata": {
  "kernelspec": {
   "display_name": "dycon",
   "language": "python",
   "name": "python3"
  },
  "language_info": {
   "codemirror_mode": {
    "name": "ipython",
    "version": 3
   },
   "file_extension": ".py",
   "mimetype": "text/x-python",
   "name": "python",
   "nbconvert_exporter": "python",
   "pygments_lexer": "ipython3",
   "version": "3.12.5"
  }
 },
 "nbformat": 4,
 "nbformat_minor": 2
}
